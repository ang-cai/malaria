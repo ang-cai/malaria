{
 "cells": [
  {
   "cell_type": "markdown",
   "id": "3785f685",
   "metadata": {},
   "source": [
    "# Fits malaria data to a GLM and shows the coefficients of the covariates to check"
   ]
  },
  {
   "cell_type": "code",
   "execution_count": 43,
   "id": "52bb9e74-23ac-4e19-8d8c-113094eaf4e4",
   "metadata": {},
   "outputs": [],
   "source": [
    "import statsmodels.api as sm\n",
    "import pandas as pd"
   ]
  },
  {
   "cell_type": "code",
   "execution_count": 44,
   "id": "53deffa4-4c06-4edf-8939-b5f691e7c5b9",
   "metadata": {},
   "outputs": [],
   "source": [
    "uganda_data = pd.read_csv(\"Uganda Malaria Data/uganda_mock_malaria_cases_2km_2018.csv\")"
   ]
  },
  {
   "cell_type": "code",
   "execution_count": 45,
   "id": "83493d71-97a7-4877-841b-78d9b5c679dd",
   "metadata": {},
   "outputs": [],
   "source": [
    "Y = uganda_data[\"malaria\"]"
   ]
  },
  {
   "cell_type": "code",
   "execution_count": 46,
   "id": "2d6994aa-9df2-4320-bc6f-0718e3b7c247",
   "metadata": {},
   "outputs": [],
   "source": [
    "X = uganda_data[[\"rainfall\", \"lst\", \"elevation\"]]"
   ]
  },
  {
   "cell_type": "code",
   "execution_count": 47,
   "id": "cc3ddb7a-f1ba-40ea-9f39-84864b58f174",
   "metadata": {},
   "outputs": [],
   "source": [
    "X = sm.add_constant(X)"
   ]
  },
  {
   "cell_type": "code",
   "execution_count": 48,
   "id": "a85deb4f-cc93-4295-85dd-22a848573a46",
   "metadata": {},
   "outputs": [],
   "source": [
    "glm_model = sm.GLM(Y, X, family=sm.families.Binomial())"
   ]
  },
  {
   "cell_type": "code",
   "execution_count": 49,
   "id": "84ba6cb3-5a6f-4574-aa67-32ad3d501fb9",
   "metadata": {},
   "outputs": [],
   "source": [
    "results = glm_model.fit()"
   ]
  },
  {
   "cell_type": "code",
   "execution_count": 50,
   "id": "76040c43-a5c5-4473-a1e9-60165621d93b",
   "metadata": {},
   "outputs": [
    {
     "name": "stdout",
     "output_type": "stream",
     "text": [
      "                 Generalized Linear Model Regression Results                  \n",
      "==============================================================================\n",
      "Dep. Variable:                malaria   No. Observations:                  300\n",
      "Model:                            GLM   Df Residuals:                      296\n",
      "Model Family:                Binomial   Df Model:                            3\n",
      "Link Function:                  Logit   Scale:                          1.0000\n",
      "Method:                          IRLS   Log-Likelihood:                -95.927\n",
      "Date:                Wed, 26 Jun 2024   Deviance:                       10.469\n",
      "Time:                        17:35:59   Pearson chi2:                     9.89\n",
      "No. Iterations:                     5   Pseudo R-squ. (CS):            0.06404\n",
      "Covariance Type:            nonrobust                                         \n",
      "==============================================================================\n",
      "                 coef    std err          z      P>|z|      [0.025      0.975]\n",
      "------------------------------------------------------------------------------\n",
      "const         -1.5052      0.159     -9.453      0.000      -1.817      -1.193\n",
      "rainfall       0.7083      0.178      3.978      0.000       0.359       1.057\n",
      "lst            0.5040      0.179      2.813      0.005       0.153       0.855\n",
      "elevation     -0.2195      0.185     -1.188      0.235      -0.582       0.143\n",
      "==============================================================================\n"
     ]
    }
   ],
   "source": [
    "print(results.summary())"
   ]
  }
 ],
 "metadata": {
  "kernelspec": {
   "display_name": "Python 3 (ipykernel)",
   "language": "python",
   "name": "python3"
  },
  "language_info": {
   "codemirror_mode": {
    "name": "ipython",
    "version": 3
   },
   "file_extension": ".py",
   "mimetype": "text/x-python",
   "name": "python",
   "nbconvert_exporter": "python",
   "pygments_lexer": "ipython3",
   "version": "3.12.3"
  }
 },
 "nbformat": 4,
 "nbformat_minor": 5
}
