{
 "cells": [
  {
   "cell_type": "code",
   "execution_count": 83,
   "id": "52bb9e74-23ac-4e19-8d8c-113094eaf4e4",
   "metadata": {},
   "outputs": [],
   "source": [
    "import statsmodels.api as sm\n",
    "import statsmodels.formula.api as smf\n",
    "import pandas as pd\n",
    "from patsy import dmatrices"
   ]
  },
  {
   "cell_type": "code",
   "execution_count": 84,
   "id": "53deffa4-4c06-4edf-8939-b5f691e7c5b9",
   "metadata": {},
   "outputs": [],
   "source": [
    "uganda_data = pd.read_csv(\"StandardizedUganda/mock_malaria_cases_uganda_2km_2000.csv\")"
   ]
  },
  {
   "cell_type": "code",
   "execution_count": 85,
   "id": "83493d71-97a7-4877-841b-78d9b5c679dd",
   "metadata": {},
   "outputs": [],
   "source": [
    "Y = uganda_data[\"malaria\"]"
   ]
  },
  {
   "cell_type": "code",
   "execution_count": 86,
   "id": "2d6994aa-9df2-4320-bc6f-0718e3b7c247",
   "metadata": {},
   "outputs": [],
   "source": [
    "X = uganda_data[[\"rainfall\", \"lst\"]]"
   ]
  },
  {
   "cell_type": "code",
   "execution_count": 87,
   "id": "cc3ddb7a-f1ba-40ea-9f39-84864b58f174",
   "metadata": {},
   "outputs": [],
   "source": [
    "X = sm.add_constant(X)"
   ]
  },
  {
   "cell_type": "code",
   "execution_count": 88,
   "id": "a85deb4f-cc93-4295-85dd-22a848573a46",
   "metadata": {},
   "outputs": [],
   "source": [
    "glm_model = sm.GLM(Y, X, family=sm.families.Binomial())"
   ]
  },
  {
   "cell_type": "code",
   "execution_count": 89,
   "id": "84ba6cb3-5a6f-4574-aa67-32ad3d501fb9",
   "metadata": {},
   "outputs": [],
   "source": [
    "results = glm_model.fit()"
   ]
  },
  {
   "cell_type": "code",
   "execution_count": 90,
   "id": "76040c43-a5c5-4473-a1e9-60165621d93b",
   "metadata": {},
   "outputs": [
    {
     "name": "stdout",
     "output_type": "stream",
     "text": [
      "                 Generalized Linear Model Regression Results                  \n",
      "==============================================================================\n",
      "Dep. Variable:                malaria   No. Observations:                  300\n",
      "Model:                            GLM   Df Residuals:                      297\n",
      "Model Family:                Binomial   Df Model:                            2\n",
      "Link Function:                  Logit   Scale:                          1.0000\n",
      "Method:                          IRLS   Log-Likelihood:                -99.020\n",
      "Date:                Wed, 12 Jun 2024   Deviance:                       11.181\n",
      "Time:                        21:55:09   Pearson chi2:                     10.5\n",
      "No. Iterations:                     5   Pseudo R-squ. (CS):            0.05393\n",
      "Covariance Type:            nonrobust                                         \n",
      "==============================================================================\n",
      "                 coef    std err          z      P>|z|      [0.025      0.975]\n",
      "------------------------------------------------------------------------------\n",
      "const         -1.4588      0.155     -9.386      0.000      -1.763      -1.154\n",
      "rainfall       0.7287      0.202      3.601      0.000       0.332       1.125\n",
      "lst            0.4886      0.181      2.697      0.007       0.134       0.844\n",
      "==============================================================================\n"
     ]
    }
   ],
   "source": [
    "print(results.summary())"
   ]
  }
 ],
 "metadata": {
  "kernelspec": {
   "display_name": "Python 3 (ipykernel)",
   "language": "python",
   "name": "python3"
  },
  "language_info": {
   "codemirror_mode": {
    "name": "ipython",
    "version": 3
   },
   "file_extension": ".py",
   "mimetype": "text/x-python",
   "name": "python",
   "nbconvert_exporter": "python",
   "pygments_lexer": "ipython3",
   "version": "3.12.3"
  }
 },
 "nbformat": 4,
 "nbformat_minor": 5
}
