{
 "cells": [
  {
   "cell_type": "code",
   "execution_count": 779,
   "id": "5bd239ac-ae10-403e-81dc-0d5ed5f7c5cd",
   "metadata": {},
   "outputs": [],
   "source": [
    "import rioxarray\n",
    "import xarray\n",
    "import numpy\n",
    "import rasterio"
   ]
  },
  {
   "cell_type": "code",
   "execution_count": 780,
   "id": "a429e5ae-6356-43b0-8fb2-19697acb9ace",
   "metadata": {},
   "outputs": [],
   "source": [
    "malaria_prevalence = rioxarray.open_rasterio(\"StandardizedUganda/mock_malaria_prevelance_uganda_2km_2000.tif\")"
   ]
  },
  {
   "cell_type": "code",
   "execution_count": 781,
   "id": "0d05d1b8-a343-49af-a5fb-d7ba58a2375f",
   "metadata": {},
   "outputs": [],
   "source": [
    "malaria_prevalence_squeezed = malaria_prevalence.squeeze()"
   ]
  },
  {
   "cell_type": "code",
   "execution_count": 782,
   "id": "a9423e43-ba18-443f-923d-4c5a5cfc3c8e",
   "metadata": {},
   "outputs": [],
   "source": [
    "left, bottom, right, top = malaria_prevalence_squeezed.rio.bounds()"
   ]
  },
  {
   "cell_type": "code",
   "execution_count": 783,
   "id": "a1afa2cb-db12-40a8-a216-9be818cae5d8",
   "metadata": {},
   "outputs": [],
   "source": [
    "n_spots = 300"
   ]
  },
  {
   "cell_type": "code",
   "execution_count": 784,
   "id": "53a6a987-73d8-46f4-bb38-ea06a277b85d",
   "metadata": {},
   "outputs": [],
   "source": [
    "random_rows = left + (right - left) * numpy.random.rand(n_spots)"
   ]
  },
  {
   "cell_type": "code",
   "execution_count": 785,
   "id": "4f2b0999-57a9-47fe-94fe-e4433d4fab21",
   "metadata": {},
   "outputs": [],
   "source": [
    "random_cols = bottom + (top - bottom) * numpy.random.rand(n_spots)"
   ]
  },
  {
   "cell_type": "code",
   "execution_count": 786,
   "id": "d572e11a-12ff-48cb-bb86-ae795010c467",
   "metadata": {},
   "outputs": [],
   "source": [
    "x = xarray.DataArray(random_rows)"
   ]
  },
  {
   "cell_type": "code",
   "execution_count": 787,
   "id": "35bbf1aa-0a6d-4e9b-9f81-748d8b857b23",
   "metadata": {},
   "outputs": [],
   "source": [
    "y = xarray.DataArray(random_cols)"
   ]
  },
  {
   "cell_type": "code",
   "execution_count": 788,
   "id": "8f593487-e764-41fe-b640-96b43ddca153",
   "metadata": {},
   "outputs": [],
   "source": [
    "prevalence_values = malaria_prevalence_squeezed.sel(x=x, y=y, method=\"nearest\")"
   ]
  },
  {
   "cell_type": "code",
   "execution_count": 789,
   "id": "d5704ed2-8b44-4b9d-8650-06cc6ccf90f1",
   "metadata": {},
   "outputs": [],
   "source": [
    "n_trials = 30"
   ]
  },
  {
   "cell_type": "code",
   "execution_count": 790,
   "id": "0e8914be-f27b-4146-938b-6a929a649b9a",
   "metadata": {},
   "outputs": [],
   "source": [
    "malaria_cases = numpy.random.binomial(n_trials, prevalence_values)/n_trials"
   ]
  },
  {
   "cell_type": "code",
   "execution_count": 791,
   "id": "444d2b5e-48e3-41c5-89f0-2c8a2456b452",
   "metadata": {},
   "outputs": [],
   "source": [
    "lat = xarray.DataArray(prevalence_values[\"x\"].values)"
   ]
  },
  {
   "cell_type": "code",
   "execution_count": 792,
   "id": "bb236c94-f80e-4603-8311-33a849e19f2d",
   "metadata": {},
   "outputs": [],
   "source": [
    "long = xarray.DataArray(prevalence_values[\"y\"].values)"
   ]
  },
  {
   "cell_type": "code",
   "execution_count": 793,
   "id": "b5195de0-acaf-4b5b-82ef-fdc86ab837bc",
   "metadata": {},
   "outputs": [],
   "source": [
    "malaria_mock_data = xarray.DataArray(malaria_cases, coords={\"x\":lat, \"y\":long})"
   ]
  },
  {
   "cell_type": "code",
   "execution_count": 794,
   "id": "0daa61a9-09a4-4dfb-bc56-62df2074fdbd",
   "metadata": {},
   "outputs": [],
   "source": [
    "malaria_mock_data_df = malaria_mock_data.to_dataframe(name=\"malaria\")"
   ]
  },
  {
   "cell_type": "code",
   "execution_count": 795,
   "id": "08e2b1ff-5e5e-4f5a-ae96-64af73a80a1a",
   "metadata": {},
   "outputs": [],
   "source": [
    "lst_data = rioxarray.open_rasterio(\"StandardizedUganda/standard_uganda_LSTday_2km_2000.tif\")"
   ]
  },
  {
   "cell_type": "code",
   "execution_count": 796,
   "id": "2100266b-29f3-4938-8b86-5ac6581887e5",
   "metadata": {},
   "outputs": [],
   "source": [
    "rainfall_data = rioxarray.open_rasterio(\"StandardizedUganda/standard_uganda_Rainfall_CHIRPS_2km_2000.tif\")"
   ]
  },
  {
   "cell_type": "code",
   "execution_count": 797,
   "id": "d56de2a2-429e-493e-8c44-ac76d8c046db",
   "metadata": {},
   "outputs": [],
   "source": [
    "lst_300_data = lst_data.sel(x=x, y=y, method=\"nearest\")"
   ]
  },
  {
   "cell_type": "code",
   "execution_count": 798,
   "id": "66a6251f-9025-4122-9009-48e778c220f9",
   "metadata": {},
   "outputs": [],
   "source": [
    "rain_300_data = rainfall_data.sel(x=x, y=y, method=\"nearest\")"
   ]
  },
  {
   "cell_type": "code",
   "execution_count": 799,
   "id": "46586bb3-e3d9-4119-8108-163e9df56d01",
   "metadata": {},
   "outputs": [],
   "source": [
    "lst_300_data = numpy.array(lst_300_data).flatten()"
   ]
  },
  {
   "cell_type": "code",
   "execution_count": 800,
   "id": "da88077d-4153-480e-83c7-9f55ca23c103",
   "metadata": {},
   "outputs": [],
   "source": [
    "rain_300_data = numpy.array(rain_300_data).flatten()"
   ]
  },
  {
   "cell_type": "code",
   "execution_count": 801,
   "id": "3db2bb98-1edd-4f93-ad78-72ca98c1185f",
   "metadata": {},
   "outputs": [],
   "source": [
    "malaria_mock_data_df[\"lst\"] = lst_300_data"
   ]
  },
  {
   "cell_type": "code",
   "execution_count": 802,
   "id": "0cbecd5b-46ea-44c1-845f-d93ba46a1f85",
   "metadata": {},
   "outputs": [],
   "source": [
    "malaria_mock_data_df[\"rainfall\"] = rain_300_data"
   ]
  },
  {
   "cell_type": "code",
   "execution_count": 803,
   "id": "65b7ed57-f265-4322-a8f6-930d76764183",
   "metadata": {},
   "outputs": [],
   "source": [
    "malaria_mock_data_df.to_csv(\"StandardizedUganda/mock_malaria_cases_uganda_2km_2000.csv\")"
   ]
  }
 ],
 "metadata": {
  "kernelspec": {
   "display_name": "Python 3 (ipykernel)",
   "language": "python",
   "name": "python3"
  },
  "language_info": {
   "codemirror_mode": {
    "name": "ipython",
    "version": 3
   },
   "file_extension": ".py",
   "mimetype": "text/x-python",
   "name": "python",
   "nbconvert_exporter": "python",
   "pygments_lexer": "ipython3",
   "version": "3.12.3"
  }
 },
 "nbformat": 4,
 "nbformat_minor": 5
}
