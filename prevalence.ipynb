{
 "cells": [
  {
   "cell_type": "markdown",
   "id": "c8a729a9",
   "metadata": {},
   "source": [
    "# Returns a Malaria prevalence raster using a linear function"
   ]
  },
  {
   "cell_type": "code",
   "execution_count": 2,
   "id": "e9259d43",
   "metadata": {},
   "outputs": [],
   "source": [
    "import rioxarray\n",
    "import numpy as np"
   ]
  },
  {
   "cell_type": "code",
   "execution_count": 12,
   "metadata": {},
   "outputs": [],
   "source": [
    "# Covariates\n",
    "lst = rioxarray.open_rasterio(\"Uganda Standardized Rasters/standard_uganda_LSTday_2km_2018.tif\")\n",
    "rainfall = rioxarray.open_rasterio(\"Uganda Standardized Rasters/standard_uganda_Rainfall_CHIRPS_2km_2018.tif\")\n",
    "elevation = rioxarray.open_rasterio(\"Uganda Standardized Rasters/standard_uganda_elevation_2km.tif\")"
   ]
  },
  {
   "cell_type": "code",
   "execution_count": 9,
   "id": "b5100aa8",
   "metadata": {},
   "outputs": [],
   "source": [
    "lst = lst.sel(band=1)"
   ]
  },
  {
   "cell_type": "code",
   "execution_count": 4,
   "id": "105b8feb",
   "metadata": {},
   "outputs": [],
   "source": [
    "# Reprojects covariates\n",
    "elevation = elevation.rio.reproject_match(lst)"
   ]
  },
  {
   "cell_type": "code",
   "execution_count": 5,
   "id": "1fac1279",
   "metadata": {},
   "outputs": [],
   "source": [
    "elevation = elevation.assign_coords({\n",
    "    \"x\": lst.x,\n",
    "    \"y\": lst.y\n",
    "})"
   ]
  },
  {
   "cell_type": "code",
   "execution_count": 176,
   "metadata": {},
   "outputs": [],
   "source": [
    "# Arbitrary function\n",
    "malaria_logit_prevalence = (-1.5 + .5 * lst + .75 * rainfall - .25 * elevation)"
   ]
  },
  {
   "cell_type": "code",
   "execution_count": 177,
   "metadata": {},
   "outputs": [],
   "source": [
    "malaria_prevalence_probability = 1 / (1 + np.exp(-malaria_logit_prevalence))"
   ]
  },
  {
   "cell_type": "code",
   "execution_count": 178,
   "metadata": {},
   "outputs": [],
   "source": [
    "malaria_prevalence_probability.rio.to_raster(\"Uganda Malaria Data/uganda_mock_malaria_prevelance_2km_2018.tif\")"
   ]
  }
 ],
 "metadata": {
  "kernelspec": {
   "display_name": "Python 3 (ipykernel)",
   "language": "python",
   "name": "python3"
  },
  "language_info": {
   "codemirror_mode": {
    "name": "ipython",
    "version": 3
   },
   "file_extension": ".py",
   "mimetype": "text/x-python",
   "name": "python",
   "nbconvert_exporter": "python",
   "pygments_lexer": "ipython3",
   "version": "3.12.3"
  }
 },
 "nbformat": 4,
 "nbformat_minor": 5
}
